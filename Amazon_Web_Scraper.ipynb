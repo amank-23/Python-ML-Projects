{
 "cells": [
  {
   "cell_type": "code",
   "execution_count": 1,
   "id": "918e945e-8b77-4a35-8132-3ed3d9c8d75c",
   "metadata": {},
   "outputs": [],
   "source": [
    "# Import Libraries\n",
    "from bs4 import BeautifulSoup\n",
    "import requests\n",
    "\n",
    "import time\n",
    "import datetime\n",
    "import smtplib # Sending Email"
   ]
  },
  {
   "cell_type": "code",
   "execution_count": 2,
   "id": "04fb6b1c-ad7c-4658-9a93-a15ba8e4f694",
   "metadata": {},
   "outputs": [
    {
     "name": "stdout",
     "output_type": "stream",
     "text": [
      "\n",
      "                     DUDEME I Predict The Future T-Shirt, 100% Cotton T-Shirts for Programmer, Coding, Developer, Software mens, Round Neck T Shirts for Women, Half Sleeve Tshirt for Men …\n",
      "                    \n",
      "\n",
      "                       499\n",
      "                      \n"
     ]
    }
   ],
   "source": [
    "# Connect to the website \n",
    "\n",
    "URL  = 'https://www.amazon.in/DUDEME-Predict-Programmer-Developer-T-Shirt/dp/B08J25GNW2/ref=sr_1_7?crid=2IIWAWH5ZL658&dib=eyJ2IjoiMSJ9.EO4RxmrLIYlhINjgwyDqhCFl2GtvyTGKM7L-dgs4g5hibagbt9a7LvZjutY9aR4yIumofMbvT55rW1s6upoe5deVgVGB7jfHTHKQZf99dpPwqMIc37fR3A65KyBUoTAhblDFf-HEMoktU_XF6jbNkUKCnY1YDTPz7r9mBdk8dfiFtgpH6fNcPZkTds-x2Z9H.TZk6iGg57Do0neIOVtNrdajQkFISo-SxIKrYs2rgFqI&dib_tag=se&keywords=data%2Banalyst%2Btshirt&qid=1720246164&sprefix=data%2Bana%2Caps%2C480&sr=8-7'\n",
    "headers = {\n",
    "    \"User-Agent\": \"Mozilla/5.0 (Windows NT 10.0; Win64; x64) AppleWebKit/537.36 (KHTML, like Gecko) Chrome/125.0.0.0 Safari/537.36 OPR/111.0.0.0\",\n",
    "    \"Accept-Encoding\": \"gzip, deflate\",\n",
    "    \"Accept\": \"text/html,application/xhtml+xml,application/xml;q=0.9,*/*;q=0.8\",\n",
    "    \"DNT\": \"1\",\n",
    "    \"Connection\": \"close\",\n",
    "    \"Upgrade-Insecure-Requests\": \"1\"\n",
    "}\n",
    "\n",
    "page = requests.get(URL,headers=headers)\n",
    "\n",
    "\n",
    "soup1 = BeautifulSoup(page.content , \"html.parser\")\n",
    "\n",
    "soup2 = BeautifulSoup (soup1.prettify() , \"html.parser\")\n",
    "\n",
    "title = soup2.find(id='productTitle').get_text()\n",
    "price = soup2.find('span', class_='a-price-whole').get_text() # Point to be noted, for dealing with class instead of id\n",
    "print(title)\n",
    "print(price)"
   ]
  },
  {
   "cell_type": "code",
   "execution_count": 3,
   "id": "4fd1b94d-020c-47a9-b20c-d949a4aefec9",
   "metadata": {},
   "outputs": [
    {
     "name": "stdout",
     "output_type": "stream",
     "text": [
      "499\n",
      "DUDEME I Predict The Future T-Shirt, 100% Cotton T-Shirts for Programmer, Coding, Developer, Software mens, Round Neck T Shirts for Women, Half Sleeve Tshirt for Men …\n"
     ]
    }
   ],
   "source": [
    "price = price.strip() # if we had any currency symbol add [1:] to the end of the text\n",
    "title = title.strip()\n",
    "print(price)\n",
    "print(title)"
   ]
  },
  {
   "cell_type": "code",
   "execution_count": 4,
   "id": "8c177abc-3569-480f-af5f-08fd5a79bc21",
   "metadata": {},
   "outputs": [
    {
     "name": "stdout",
     "output_type": "stream",
     "text": [
      "2024-07-06\n"
     ]
    }
   ],
   "source": [
    "import datetime\n",
    "today = datetime.date.today()\n",
    "print(today)"
   ]
  },
  {
   "cell_type": "code",
   "execution_count": 5,
   "id": "fa49ca6a-9efb-4809-a9ef-c2278c1b54bc",
   "metadata": {
    "scrolled": true
   },
   "outputs": [],
   "source": [
    "import csv\n",
    "header = ['Title' , 'Price' ,'Date']\n",
    "data = [title, price , today]\n",
    "with open ('amazonwebscraper.csv' ,'w' , newline ='' , encoding = 'UTF8') as f:\n",
    "    writer = csv.writer(f)\n",
    "    writer.writerow(header)\n",
    "    writer.writerow(data)"
   ]
  },
  {
   "cell_type": "code",
   "execution_count": 6,
   "id": "57579cb0-e32c-4f3e-9af1-2b01a651e472",
   "metadata": {},
   "outputs": [],
   "source": [
    "# appending Data\n",
    "\n",
    "with open ('amazonwebscraper.csv' ,'a+' , newline ='' , encoding = 'UTF8') as f:\n",
    "    writer = csv.writer(f)\n",
    "    writer.writerow(data)"
   ]
  },
  {
   "cell_type": "code",
   "execution_count": 7,
   "id": "a564834d-f74c-4575-8815-7fce2b540731",
   "metadata": {},
   "outputs": [],
   "source": [
    "def check_price() : \n",
    "    URL  = 'https://www.amazon.in/DUDEME-Predict-Programmer-Developer-T-Shirt/dp/B08J25GNW2/ref=sr_1_7?crid=2IIWAWH5ZL658&dib=eyJ2IjoiMSJ9.EO4RxmrLIYlhINjgwyDqhCFl2GtvyTGKM7L-dgs4g5hibagbt9a7LvZjutY9aR4yIumofMbvT55rW1s6upoe5deVgVGB7jfHTHKQZf99dpPwqMIc37fR3A65KyBUoTAhblDFf-HEMoktU_XF6jbNkUKCnY1YDTPz7r9mBdk8dfiFtgpH6fNcPZkTds-x2Z9H.TZk6iGg57Do0neIOVtNrdajQkFISo-SxIKrYs2rgFqI&dib_tag=se&keywords=data%2Banalyst%2Btshirt&qid=1720246164&sprefix=data%2Bana%2Caps%2C480&sr=8-7'\n",
    "    headers = {\n",
    "    \"User-Agent\": \"Mozilla/5.0 (Windows NT 10.0; Win64; x64) AppleWebKit/537.36 (KHTML, like Gecko) Chrome/125.0.0.0 Safari/537.36 OPR/111.0.0.0\",\n",
    "    \"Accept-Encoding\": \"gzip, deflate\",\n",
    "    \"Accept\": \"text/html,application/xhtml+xml,application/xml;q=0.9,*/*;q=0.8\",\n",
    "    \"DNT\": \"1\",\n",
    "    \"Connection\": \"close\",\n",
    "    \"Upgrade-Insecure-Requests\": \"1\"\n",
    "    }\n",
    "\n",
    "    page = requests.get(URL,headers=headers)\n",
    "\n",
    "\n",
    "    soup1 = BeautifulSoup(page.content , \"html.parser\")\n",
    "\n",
    "    soup2 = BeautifulSoup (soup1.prettify() , \"html.parser\")\n",
    "\n",
    "    title = soup2.find(id='productTitle').get_text()\n",
    "    price = soup2.find('span', class_='a-price-whole').get_text() # Point to be noted, for dealing with class instead of id\n",
    "    price = price.strip() # if we had any currency symbol add [1:] to the end of the text\n",
    "    title = title.strip()\n",
    "    \n",
    "    import datetime\n",
    "    today = datetime.date.today()\n",
    "   \n",
    "    import csv\n",
    "    header = ['Title' , 'Price' ,'Date']\n",
    "    data = [title, price , today]\n",
    "\n",
    "    \n",
    "    with open ('amazonwebscraper.csv' ,'a+' , newline ='' , encoding = 'UTF8') as f:\n",
    "        writer = csv.writer(f)\n",
    "        writer.writerow(data)\n",
    "    "
   ]
  },
  {
   "cell_type": "code",
   "execution_count": 8,
   "id": "21896827-f52a-4907-9964-7a270f883b4f",
   "metadata": {},
   "outputs": [
    {
     "ename": "PermissionError",
     "evalue": "[Errno 13] Permission denied: 'amazonwebscraper.csv'",
     "output_type": "error",
     "traceback": [
      "\u001b[1;31m---------------------------------------------------------------------------\u001b[0m",
      "\u001b[1;31mPermissionError\u001b[0m                           Traceback (most recent call last)",
      "Cell \u001b[1;32mIn[8], line 2\u001b[0m\n\u001b[0;32m      1\u001b[0m \u001b[38;5;28;01mwhile\u001b[39;00m(\u001b[38;5;28;01mTrue\u001b[39;00m) : \n\u001b[1;32m----> 2\u001b[0m     check_price()\n\u001b[0;32m      3\u001b[0m     time\u001b[38;5;241m.\u001b[39msleep(\u001b[38;5;241m5\u001b[39m)\n",
      "Cell \u001b[1;32mIn[7], line 32\u001b[0m, in \u001b[0;36mcheck_price\u001b[1;34m()\u001b[0m\n\u001b[0;32m     28\u001b[0m header \u001b[38;5;241m=\u001b[39m [\u001b[38;5;124m'\u001b[39m\u001b[38;5;124mTitle\u001b[39m\u001b[38;5;124m'\u001b[39m , \u001b[38;5;124m'\u001b[39m\u001b[38;5;124mPrice\u001b[39m\u001b[38;5;124m'\u001b[39m ,\u001b[38;5;124m'\u001b[39m\u001b[38;5;124mDate\u001b[39m\u001b[38;5;124m'\u001b[39m]\n\u001b[0;32m     29\u001b[0m data \u001b[38;5;241m=\u001b[39m [title, price , today]\n\u001b[1;32m---> 32\u001b[0m \u001b[38;5;28;01mwith\u001b[39;00m \u001b[38;5;28mopen\u001b[39m (\u001b[38;5;124m'\u001b[39m\u001b[38;5;124mamazonwebscraper.csv\u001b[39m\u001b[38;5;124m'\u001b[39m ,\u001b[38;5;124m'\u001b[39m\u001b[38;5;124ma+\u001b[39m\u001b[38;5;124m'\u001b[39m , newline \u001b[38;5;241m=\u001b[39m\u001b[38;5;124m'\u001b[39m\u001b[38;5;124m'\u001b[39m , encoding \u001b[38;5;241m=\u001b[39m \u001b[38;5;124m'\u001b[39m\u001b[38;5;124mUTF8\u001b[39m\u001b[38;5;124m'\u001b[39m) \u001b[38;5;28;01mas\u001b[39;00m f:\n\u001b[0;32m     33\u001b[0m     writer \u001b[38;5;241m=\u001b[39m csv\u001b[38;5;241m.\u001b[39mwriter(f)\n\u001b[0;32m     34\u001b[0m     writer\u001b[38;5;241m.\u001b[39mwriterow(data)\n",
      "File \u001b[1;32m~\\anaconda3\\Lib\\site-packages\\IPython\\core\\interactiveshell.py:310\u001b[0m, in \u001b[0;36m_modified_open\u001b[1;34m(file, *args, **kwargs)\u001b[0m\n\u001b[0;32m    303\u001b[0m \u001b[38;5;28;01mif\u001b[39;00m file \u001b[38;5;129;01min\u001b[39;00m {\u001b[38;5;241m0\u001b[39m, \u001b[38;5;241m1\u001b[39m, \u001b[38;5;241m2\u001b[39m}:\n\u001b[0;32m    304\u001b[0m     \u001b[38;5;28;01mraise\u001b[39;00m \u001b[38;5;167;01mValueError\u001b[39;00m(\n\u001b[0;32m    305\u001b[0m         \u001b[38;5;124mf\u001b[39m\u001b[38;5;124m\"\u001b[39m\u001b[38;5;124mIPython won\u001b[39m\u001b[38;5;124m'\u001b[39m\u001b[38;5;124mt let you open fd=\u001b[39m\u001b[38;5;132;01m{\u001b[39;00mfile\u001b[38;5;132;01m}\u001b[39;00m\u001b[38;5;124m by default \u001b[39m\u001b[38;5;124m\"\u001b[39m\n\u001b[0;32m    306\u001b[0m         \u001b[38;5;124m\"\u001b[39m\u001b[38;5;124mas it is likely to crash IPython. If you know what you are doing, \u001b[39m\u001b[38;5;124m\"\u001b[39m\n\u001b[0;32m    307\u001b[0m         \u001b[38;5;124m\"\u001b[39m\u001b[38;5;124myou can use builtins\u001b[39m\u001b[38;5;124m'\u001b[39m\u001b[38;5;124m open.\u001b[39m\u001b[38;5;124m\"\u001b[39m\n\u001b[0;32m    308\u001b[0m     )\n\u001b[1;32m--> 310\u001b[0m \u001b[38;5;28;01mreturn\u001b[39;00m io_open(file, \u001b[38;5;241m*\u001b[39margs, \u001b[38;5;241m*\u001b[39m\u001b[38;5;241m*\u001b[39mkwargs)\n",
      "\u001b[1;31mPermissionError\u001b[0m: [Errno 13] Permission denied: 'amazonwebscraper.csv'"
     ]
    }
   ],
   "source": [
    "while(True) : \n",
    "    check_price()\n",
    "    time.sleep(5)"
   ]
  },
  {
   "cell_type": "code",
   "execution_count": null,
   "id": "5c9cb72d-6f28-4ab9-8581-4e30ae007b7a",
   "metadata": {},
   "outputs": [],
   "source": []
  }
 ],
 "metadata": {
  "kernelspec": {
   "display_name": "Python 3 (ipykernel)",
   "language": "python",
   "name": "python3"
  },
  "language_info": {
   "codemirror_mode": {
    "name": "ipython",
    "version": 3
   },
   "file_extension": ".py",
   "mimetype": "text/x-python",
   "name": "python",
   "nbconvert_exporter": "python",
   "pygments_lexer": "ipython3",
   "version": "3.11.7"
  }
 },
 "nbformat": 4,
 "nbformat_minor": 5
}
